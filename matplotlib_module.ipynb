{
 "cells": [
  {
   "cell_type": "code",
   "execution_count": 54,
   "id": "b1442c06-f9f6-4e60-b5a3-1741f63a7a47",
   "metadata": {},
   "outputs": [],
   "source": [
    "import pandas as pd\n",
    "import numpy as np\n",
    "import matplotlib.pyplot as plt\n",
    "import random"
   ]
  },
  {
   "cell_type": "code",
   "execution_count": 129,
   "id": "9ff1d9cb-3289-42ec-a8f5-4449f6c24fad",
   "metadata": {},
   "outputs": [],
   "source": [
    "np.random.seed(10)\n",
    "n=100\n",
    "data_dictionary={\n",
    "    \"user_id\":np.arange(n),\n",
    "    \"user_age\":np.random.randint(15,70,n),\n",
    "    \"joining_date\":pd.date_range(start=\"2024-01-01\",periods=n,freq=\"D\"),\n",
    "    \"user_salary\":np.random.uniform(19.99,101.99,n)\n",
    "}"
   ]
  },
  {
   "cell_type": "code",
   "execution_count": null,
   "id": "eca33aa8-784d-4472-b67e-2932d6ce3ff0",
   "metadata": {},
   "outputs": [],
   "source": []
  },
  {
   "cell_type": "code",
   "execution_count": 130,
   "id": "f55b3a5d-3013-4a6f-ad98-e5dbc77177d8",
   "metadata": {},
   "outputs": [],
   "source": [
    "df=pd.DataFrame(data_dictionary)"
   ]
  },
  {
   "cell_type": "code",
   "execution_count": 131,
   "id": "5b72d330-b728-42d9-bcfa-36f7023d1803",
   "metadata": {},
   "outputs": [
    {
     "data": {
      "text/html": [
       "<div>\n",
       "<style scoped>\n",
       "    .dataframe tbody tr th:only-of-type {\n",
       "        vertical-align: middle;\n",
       "    }\n",
       "\n",
       "    .dataframe tbody tr th {\n",
       "        vertical-align: top;\n",
       "    }\n",
       "\n",
       "    .dataframe thead th {\n",
       "        text-align: right;\n",
       "    }\n",
       "</style>\n",
       "<table border=\"1\" class=\"dataframe\">\n",
       "  <thead>\n",
       "    <tr style=\"text-align: right;\">\n",
       "      <th></th>\n",
       "      <th>user_id</th>\n",
       "      <th>user_age</th>\n",
       "      <th>joining_date</th>\n",
       "      <th>user_salary</th>\n",
       "    </tr>\n",
       "  </thead>\n",
       "  <tbody>\n",
       "    <tr>\n",
       "      <th>0</th>\n",
       "      <td>0</td>\n",
       "      <td>24</td>\n",
       "      <td>2024-01-01</td>\n",
       "      <td>97.419378</td>\n",
       "    </tr>\n",
       "    <tr>\n",
       "      <th>1</th>\n",
       "      <td>1</td>\n",
       "      <td>51</td>\n",
       "      <td>2024-01-02</td>\n",
       "      <td>100.975289</td>\n",
       "    </tr>\n",
       "    <tr>\n",
       "      <th>2</th>\n",
       "      <td>2</td>\n",
       "      <td>30</td>\n",
       "      <td>2024-01-03</td>\n",
       "      <td>57.406973</td>\n",
       "    </tr>\n",
       "    <tr>\n",
       "      <th>3</th>\n",
       "      <td>3</td>\n",
       "      <td>15</td>\n",
       "      <td>2024-01-04</td>\n",
       "      <td>87.732073</td>\n",
       "    </tr>\n",
       "    <tr>\n",
       "      <th>4</th>\n",
       "      <td>4</td>\n",
       "      <td>64</td>\n",
       "      <td>2024-01-05</td>\n",
       "      <td>40.602679</td>\n",
       "    </tr>\n",
       "  </tbody>\n",
       "</table>\n",
       "</div>"
      ],
      "text/plain": [
       "   user_id  user_age joining_date  user_salary\n",
       "0        0        24   2024-01-01    97.419378\n",
       "1        1        51   2024-01-02   100.975289\n",
       "2        2        30   2024-01-03    57.406973\n",
       "3        3        15   2024-01-04    87.732073\n",
       "4        4        64   2024-01-05    40.602679"
      ]
     },
     "execution_count": 131,
     "metadata": {},
     "output_type": "execute_result"
    }
   ],
   "source": [
    "df.head(5)"
   ]
  },
  {
   "cell_type": "code",
   "execution_count": 132,
   "id": "ee37fdc9-84ce-44ac-8565-4e7c348fffa7",
   "metadata": {},
   "outputs": [
    {
     "data": {
      "text/html": [
       "<div>\n",
       "<style scoped>\n",
       "    .dataframe tbody tr th:only-of-type {\n",
       "        vertical-align: middle;\n",
       "    }\n",
       "\n",
       "    .dataframe tbody tr th {\n",
       "        vertical-align: top;\n",
       "    }\n",
       "\n",
       "    .dataframe thead th {\n",
       "        text-align: right;\n",
       "    }\n",
       "</style>\n",
       "<table border=\"1\" class=\"dataframe\">\n",
       "  <thead>\n",
       "    <tr style=\"text-align: right;\">\n",
       "      <th></th>\n",
       "      <th>user_id</th>\n",
       "      <th>user_age</th>\n",
       "      <th>joining_date</th>\n",
       "      <th>user_salary</th>\n",
       "    </tr>\n",
       "  </thead>\n",
       "  <tbody>\n",
       "    <tr>\n",
       "      <th>95</th>\n",
       "      <td>95</td>\n",
       "      <td>37</td>\n",
       "      <td>2024-04-05</td>\n",
       "      <td>56.037629</td>\n",
       "    </tr>\n",
       "    <tr>\n",
       "      <th>96</th>\n",
       "      <td>96</td>\n",
       "      <td>26</td>\n",
       "      <td>2024-04-06</td>\n",
       "      <td>33.618576</td>\n",
       "    </tr>\n",
       "    <tr>\n",
       "      <th>97</th>\n",
       "      <td>97</td>\n",
       "      <td>63</td>\n",
       "      <td>2024-04-07</td>\n",
       "      <td>61.562248</td>\n",
       "    </tr>\n",
       "    <tr>\n",
       "      <th>98</th>\n",
       "      <td>98</td>\n",
       "      <td>27</td>\n",
       "      <td>2024-04-08</td>\n",
       "      <td>87.150941</td>\n",
       "    </tr>\n",
       "    <tr>\n",
       "      <th>99</th>\n",
       "      <td>99</td>\n",
       "      <td>43</td>\n",
       "      <td>2024-04-09</td>\n",
       "      <td>27.378752</td>\n",
       "    </tr>\n",
       "  </tbody>\n",
       "</table>\n",
       "</div>"
      ],
      "text/plain": [
       "    user_id  user_age joining_date  user_salary\n",
       "95       95        37   2024-04-05    56.037629\n",
       "96       96        26   2024-04-06    33.618576\n",
       "97       97        63   2024-04-07    61.562248\n",
       "98       98        27   2024-04-08    87.150941\n",
       "99       99        43   2024-04-09    27.378752"
      ]
     },
     "execution_count": 132,
     "metadata": {},
     "output_type": "execute_result"
    }
   ],
   "source": [
    "df.tail(5)"
   ]
  },
  {
   "cell_type": "code",
   "execution_count": 133,
   "id": "c2a5e5b8-3d85-42a1-b28c-6a3dfbd073c7",
   "metadata": {},
   "outputs": [
    {
     "data": {
      "text/html": [
       "<div>\n",
       "<style scoped>\n",
       "    .dataframe tbody tr th:only-of-type {\n",
       "        vertical-align: middle;\n",
       "    }\n",
       "\n",
       "    .dataframe tbody tr th {\n",
       "        vertical-align: top;\n",
       "    }\n",
       "\n",
       "    .dataframe thead th {\n",
       "        text-align: right;\n",
       "    }\n",
       "</style>\n",
       "<table border=\"1\" class=\"dataframe\">\n",
       "  <thead>\n",
       "    <tr style=\"text-align: right;\">\n",
       "      <th></th>\n",
       "      <th>user_id</th>\n",
       "      <th>user_age</th>\n",
       "      <th>joining_date</th>\n",
       "      <th>user_salary</th>\n",
       "    </tr>\n",
       "  </thead>\n",
       "  <tbody>\n",
       "    <tr>\n",
       "      <th>count</th>\n",
       "      <td>100.000000</td>\n",
       "      <td>100.000000</td>\n",
       "      <td>100</td>\n",
       "      <td>100.000000</td>\n",
       "    </tr>\n",
       "    <tr>\n",
       "      <th>mean</th>\n",
       "      <td>49.500000</td>\n",
       "      <td>41.160000</td>\n",
       "      <td>2024-02-19 12:00:00</td>\n",
       "      <td>58.468124</td>\n",
       "    </tr>\n",
       "    <tr>\n",
       "      <th>min</th>\n",
       "      <td>0.000000</td>\n",
       "      <td>15.000000</td>\n",
       "      <td>2024-01-01 00:00:00</td>\n",
       "      <td>21.208522</td>\n",
       "    </tr>\n",
       "    <tr>\n",
       "      <th>25%</th>\n",
       "      <td>24.750000</td>\n",
       "      <td>28.000000</td>\n",
       "      <td>2024-01-25 18:00:00</td>\n",
       "      <td>40.546066</td>\n",
       "    </tr>\n",
       "    <tr>\n",
       "      <th>50%</th>\n",
       "      <td>49.500000</td>\n",
       "      <td>39.000000</td>\n",
       "      <td>2024-02-19 12:00:00</td>\n",
       "      <td>58.731619</td>\n",
       "    </tr>\n",
       "    <tr>\n",
       "      <th>75%</th>\n",
       "      <td>74.250000</td>\n",
       "      <td>51.000000</td>\n",
       "      <td>2024-03-15 06:00:00</td>\n",
       "      <td>73.468008</td>\n",
       "    </tr>\n",
       "    <tr>\n",
       "      <th>max</th>\n",
       "      <td>99.000000</td>\n",
       "      <td>69.000000</td>\n",
       "      <td>2024-04-09 00:00:00</td>\n",
       "      <td>100.975289</td>\n",
       "    </tr>\n",
       "    <tr>\n",
       "      <th>std</th>\n",
       "      <td>29.011492</td>\n",
       "      <td>15.358819</td>\n",
       "      <td>NaN</td>\n",
       "      <td>22.783449</td>\n",
       "    </tr>\n",
       "  </tbody>\n",
       "</table>\n",
       "</div>"
      ],
      "text/plain": [
       "          user_id    user_age         joining_date  user_salary\n",
       "count  100.000000  100.000000                  100   100.000000\n",
       "mean    49.500000   41.160000  2024-02-19 12:00:00    58.468124\n",
       "min      0.000000   15.000000  2024-01-01 00:00:00    21.208522\n",
       "25%     24.750000   28.000000  2024-01-25 18:00:00    40.546066\n",
       "50%     49.500000   39.000000  2024-02-19 12:00:00    58.731619\n",
       "75%     74.250000   51.000000  2024-03-15 06:00:00    73.468008\n",
       "max     99.000000   69.000000  2024-04-09 00:00:00   100.975289\n",
       "std     29.011492   15.358819                  NaN    22.783449"
      ]
     },
     "execution_count": 133,
     "metadata": {},
     "output_type": "execute_result"
    }
   ],
   "source": [
    "df.describe()"
   ]
  },
  {
   "cell_type": "code",
   "execution_count": 134,
   "id": "9bb354ff-76da-4663-92f5-2db60acfb2bb",
   "metadata": {},
   "outputs": [
    {
     "data": {
      "text/plain": [
       "(100, 4)"
      ]
     },
     "execution_count": 134,
     "metadata": {},
     "output_type": "execute_result"
    }
   ],
   "source": [
    "df.shape"
   ]
  },
  {
   "cell_type": "code",
   "execution_count": 135,
   "id": "36dbff35-a98e-48c4-8744-508619881641",
   "metadata": {},
   "outputs": [
    {
     "data": {
      "text/plain": [
       "user_id                  int64\n",
       "user_age                 int64\n",
       "joining_date    datetime64[ns]\n",
       "user_salary            float64\n",
       "dtype: object"
      ]
     },
     "execution_count": 135,
     "metadata": {},
     "output_type": "execute_result"
    }
   ],
   "source": [
    "df.dtypes"
   ]
  },
  {
   "cell_type": "code",
   "execution_count": 136,
   "id": "154fd4b5-34e5-47bf-96ed-1c1109f40e66",
   "metadata": {},
   "outputs": [
    {
     "data": {
      "text/plain": [
       "Index(['user_id', 'user_age', 'joining_date', 'user_salary'], dtype='object')"
      ]
     },
     "execution_count": 136,
     "metadata": {},
     "output_type": "execute_result"
    }
   ],
   "source": [
    "df.columns"
   ]
  },
  {
   "cell_type": "code",
   "execution_count": 137,
   "id": "785cefb9-cb6d-44ad-bfaa-3ca5d4dc7d47",
   "metadata": {},
   "outputs": [
    {
     "data": {
      "text/plain": [
       "['user_id', 'user_age', 'joining_date', 'user_salary']"
      ]
     },
     "execution_count": 137,
     "metadata": {},
     "output_type": "execute_result"
    }
   ],
   "source": [
    "df.columns.tolist()"
   ]
  },
  {
   "cell_type": "code",
   "execution_count": 138,
   "id": "576ad2e7-9ef2-488c-a265-e658269d4cec",
   "metadata": {},
   "outputs": [
    {
     "data": {
      "text/plain": [
       "array([[0, 24, Timestamp('2024-01-01 00:00:00'), 97.41937840358169],\n",
       "       [1, 51, Timestamp('2024-01-02 00:00:00'), 100.97528894195352],\n",
       "       [2, 30, Timestamp('2024-01-03 00:00:00'), 57.40697286177229],\n",
       "       [3, 15, Timestamp('2024-01-04 00:00:00'), 87.73207319510466],\n",
       "       [4, 64, Timestamp('2024-01-05 00:00:00'), 40.60267900497887],\n",
       "       [5, 43, Timestamp('2024-01-06 00:00:00'), 68.9744751549325],\n",
       "       [6, 40, Timestamp('2024-01-07 00:00:00'), 94.02220434719344],\n",
       "       [7, 44, Timestamp('2024-01-08 00:00:00'), 63.82375180174883],\n",
       "       [8, 63, Timestamp('2024-01-09 00:00:00'), 68.38651176480468],\n",
       "       [9, 44, Timestamp('2024-01-10 00:00:00'), 23.211104912481762],\n",
       "       [10, 64, Timestamp('2024-01-11 00:00:00'), 49.278904208031975],\n",
       "       [11, 23, Timestamp('2024-01-12 00:00:00'), 26.518273392789062],\n",
       "       [12, 24, Timestamp('2024-01-13 00:00:00'), 45.037713304111094],\n",
       "       [13, 15, Timestamp('2024-01-14 00:00:00'), 47.10898358253482],\n",
       "       [14, 57, Timestamp('2024-01-15 00:00:00'), 83.44408428926886],\n",
       "       [15, 55, Timestamp('2024-01-16 00:00:00'), 23.266655112578135],\n",
       "       [16, 69, Timestamp('2024-01-17 00:00:00'), 55.20835863139435],\n",
       "       [17, 51, Timestamp('2024-01-18 00:00:00'), 45.814003491100436],\n",
       "       [18, 66, Timestamp('2024-01-19 00:00:00'), 72.18227373153866],\n",
       "       [19, 31, Timestamp('2024-01-20 00:00:00'), 48.39046630656271],\n",
       "       [20, 51, Timestamp('2024-01-21 00:00:00'), 23.523983208809543],\n",
       "       [21, 62, Timestamp('2024-01-22 00:00:00'), 92.14304431046911],\n",
       "       [22, 26, Timestamp('2024-01-23 00:00:00'), 82.57572814578184],\n",
       "       [23, 69, Timestamp('2024-01-24 00:00:00'), 91.99392470343838],\n",
       "       [24, 39, Timestamp('2024-01-25 00:00:00'), 54.22574979481989],\n",
       "       [25, 58, Timestamp('2024-01-26 00:00:00'), 69.64736028028805],\n",
       "       [26, 48, Timestamp('2024-01-27 00:00:00'), 62.09426344747965],\n",
       "       [27, 23, Timestamp('2024-01-28 00:00:00'), 69.01260513296384],\n",
       "       [28, 51, Timestamp('2024-01-29 00:00:00'), 41.49168421281992],\n",
       "       [29, 29, Timestamp('2024-01-30 00:00:00'), 44.66144733313799],\n",
       "       [30, 64, Timestamp('2024-01-31 00:00:00'), 22.072782128108695],\n",
       "       [31, 66, Timestamp('2024-02-01 00:00:00'), 44.84112997338485],\n",
       "       [32, 69, Timestamp('2024-02-02 00:00:00'), 39.84022178308925],\n",
       "       [33, 28, Timestamp('2024-02-03 00:00:00'), 65.71141147033683],\n",
       "       [34, 20, Timestamp('2024-02-04 00:00:00'), 66.36157563082973],\n",
       "       [35, 28, Timestamp('2024-02-05 00:00:00'), 58.95084428803415],\n",
       "       [36, 66, Timestamp('2024-02-06 00:00:00'), 43.99943405573974],\n",
       "       [37, 40, Timestamp('2024-02-07 00:00:00'), 25.258586976975604],\n",
       "       [38, 28, Timestamp('2024-02-08 00:00:00'), 100.25316995212668],\n",
       "       [39, 43, Timestamp('2024-02-09 00:00:00'), 47.84604317830482],\n",
       "       [40, 37, Timestamp('2024-02-10 00:00:00'), 60.58398773236125],\n",
       "       [41, 45, Timestamp('2024-02-11 00:00:00'), 100.1106195256599],\n",
       "       [42, 45, Timestamp('2024-02-12 00:00:00'), 56.13345364185466],\n",
       "       [43, 40, Timestamp('2024-02-13 00:00:00'), 46.088370049274],\n",
       "       [44, 27, Timestamp('2024-02-14 00:00:00'), 62.613352841781165],\n",
       "       [45, 16, Timestamp('2024-02-15 00:00:00'), 67.39718725036234],\n",
       "       [46, 46, Timestamp('2024-02-16 00:00:00'), 90.01256754103987],\n",
       "       [47, 51, Timestamp('2024-02-17 00:00:00'), 25.5739764301119],\n",
       "       [48, 42, Timestamp('2024-02-18 00:00:00'), 58.081526237905265],\n",
       "       [49, 33, Timestamp('2024-02-19 00:00:00'), 84.10982772677016],\n",
       "       [50, 44, Timestamp('2024-02-20 00:00:00'), 78.91543045134452],\n",
       "       [51, 28, Timestamp('2024-02-21 00:00:00'), 68.04380236436042],\n",
       "       [52, 37, Timestamp('2024-02-22 00:00:00'), 23.031741885221443],\n",
       "       [53, 38, Timestamp('2024-02-23 00:00:00'), 48.7438240852169],\n",
       "       [54, 45, Timestamp('2024-02-24 00:00:00'), 66.17163612840508],\n",
       "       [55, 26, Timestamp('2024-02-25 00:00:00'), 44.56784953881415],\n",
       "       [56, 43, Timestamp('2024-02-26 00:00:00'), 62.00140056843104],\n",
       "       [57, 25, Timestamp('2024-02-27 00:00:00'), 75.21428787334708],\n",
       "       [58, 39, Timestamp('2024-02-28 00:00:00'), 33.04388613700367],\n",
       "       [59, 24, Timestamp('2024-02-29 00:00:00'), 24.129168952627804],\n",
       "       [60, 30, Timestamp('2024-03-01 00:00:00'), 47.69090273930371],\n",
       "       [61, 33, Timestamp('2024-03-02 00:00:00'), 28.85122936791511],\n",
       "       [62, 31, Timestamp('2024-03-03 00:00:00'), 34.66003030282941],\n",
       "       [63, 69, Timestamp('2024-03-04 00:00:00'), 92.62782188575186],\n",
       "       [64, 22, Timestamp('2024-03-05 00:00:00'), 49.9499276395575],\n",
       "       [65, 39, Timestamp('2024-03-06 00:00:00'), 37.929086632722004],\n",
       "       [66, 26, Timestamp('2024-03-07 00:00:00'), 81.69468595792543],\n",
       "       [67, 32, Timestamp('2024-03-08 00:00:00'), 28.75412592027267],\n",
       "       [68, 61, Timestamp('2024-03-09 00:00:00'), 81.04746574359596],\n",
       "       [69, 22, Timestamp('2024-03-10 00:00:00'), 58.51239406212055],\n",
       "       [70, 26, Timestamp('2024-03-11 00:00:00'), 69.04696504488695],\n",
       "       [71, 43, Timestamp('2024-03-12 00:00:00'), 32.09485576739441],\n",
       "       [72, 48, Timestamp('2024-03-13 00:00:00'), 35.0808554116384],\n",
       "       [73, 35, Timestamp('2024-03-14 00:00:00'), 72.88591437039582],\n",
       "       [74, 47, Timestamp('2024-03-15 00:00:00'), 23.977496513599256],\n",
       "       [75, 39, Timestamp('2024-03-16 00:00:00'), 40.3762256398271],\n",
       "       [76, 59, Timestamp('2024-03-17 00:00:00'), 64.46749833069634],\n",
       "       [77, 20, Timestamp('2024-03-18 00:00:00'), 38.58541414814076],\n",
       "       [78, 19, Timestamp('2024-03-19 00:00:00'), 51.26574586217983],\n",
       "       [79, 22, Timestamp('2024-03-20 00:00:00'), 95.61308852609079],\n",
       "       [80, 39, Timestamp('2024-03-21 00:00:00'), 95.86926357515769],\n",
       "       [81, 39, Timestamp('2024-03-22 00:00:00'), 66.46349381514999],\n",
       "       [82, 65, Timestamp('2024-03-23 00:00:00'), 63.73461256909822],\n",
       "       [83, 59, Timestamp('2024-03-24 00:00:00'), 21.208522019924704],\n",
       "       [84, 69, Timestamp('2024-03-25 00:00:00'), 100.17773959896441],\n",
       "       [85, 49, Timestamp('2024-03-26 00:00:00'), 66.97837013072123],\n",
       "       [86, 55, Timestamp('2024-03-27 00:00:00'), 84.91407369468317],\n",
       "       [87, 30, Timestamp('2024-03-28 00:00:00'), 66.03770354266226],\n",
       "       [88, 28, Timestamp('2024-03-29 00:00:00'), 91.93148980832464],\n",
       "       [89, 39, Timestamp('2024-03-30 00:00:00'), 67.89405793951539],\n",
       "       [90, 30, Timestamp('2024-03-31 00:00:00'), 78.11568576225433],\n",
       "       [91, 21, Timestamp('2024-04-01 00:00:00'), 32.1697430112296],\n",
       "       [92, 69, Timestamp('2024-04-02 00:00:00'), 55.1229605953675],\n",
       "       [93, 36, Timestamp('2024-04-03 00:00:00'), 76.88898544007776],\n",
       "       [94, 57, Timestamp('2024-04-04 00:00:00'), 28.56881905087396],\n",
       "       [95, 37, Timestamp('2024-04-05 00:00:00'), 56.03762949751642],\n",
       "       [96, 26, Timestamp('2024-04-06 00:00:00'), 33.61857611177176],\n",
       "       [97, 63, Timestamp('2024-04-07 00:00:00'), 61.56224759965188],\n",
       "       [98, 27, Timestamp('2024-04-08 00:00:00'), 87.15094085916942],\n",
       "       [99, 43, Timestamp('2024-04-09 00:00:00'), 27.37875224740396]],\n",
       "      dtype=object)"
      ]
     },
     "execution_count": 138,
     "metadata": {},
     "output_type": "execute_result"
    }
   ],
   "source": [
    "df.values"
   ]
  },
  {
   "cell_type": "code",
   "execution_count": 139,
   "id": "f1a0ce0a-3b08-4dd8-9fa1-b838f09e033c",
   "metadata": {},
   "outputs": [
    {
     "data": {
      "text/html": [
       "<div>\n",
       "<style scoped>\n",
       "    .dataframe tbody tr th:only-of-type {\n",
       "        vertical-align: middle;\n",
       "    }\n",
       "\n",
       "    .dataframe tbody tr th {\n",
       "        vertical-align: top;\n",
       "    }\n",
       "\n",
       "    .dataframe thead th {\n",
       "        text-align: right;\n",
       "    }\n",
       "</style>\n",
       "<table border=\"1\" class=\"dataframe\">\n",
       "  <thead>\n",
       "    <tr style=\"text-align: right;\">\n",
       "      <th></th>\n",
       "      <th>joining_date</th>\n",
       "      <th>user_salary</th>\n",
       "    </tr>\n",
       "  </thead>\n",
       "  <tbody>\n",
       "    <tr>\n",
       "      <th>0</th>\n",
       "      <td>2024-01-01</td>\n",
       "      <td>97.419378</td>\n",
       "    </tr>\n",
       "    <tr>\n",
       "      <th>1</th>\n",
       "      <td>2024-01-02</td>\n",
       "      <td>100.975289</td>\n",
       "    </tr>\n",
       "    <tr>\n",
       "      <th>2</th>\n",
       "      <td>2024-01-03</td>\n",
       "      <td>57.406973</td>\n",
       "    </tr>\n",
       "    <tr>\n",
       "      <th>3</th>\n",
       "      <td>2024-01-04</td>\n",
       "      <td>87.732073</td>\n",
       "    </tr>\n",
       "    <tr>\n",
       "      <th>4</th>\n",
       "      <td>2024-01-05</td>\n",
       "      <td>40.602679</td>\n",
       "    </tr>\n",
       "    <tr>\n",
       "      <th>...</th>\n",
       "      <td>...</td>\n",
       "      <td>...</td>\n",
       "    </tr>\n",
       "    <tr>\n",
       "      <th>95</th>\n",
       "      <td>2024-04-05</td>\n",
       "      <td>56.037629</td>\n",
       "    </tr>\n",
       "    <tr>\n",
       "      <th>96</th>\n",
       "      <td>2024-04-06</td>\n",
       "      <td>33.618576</td>\n",
       "    </tr>\n",
       "    <tr>\n",
       "      <th>97</th>\n",
       "      <td>2024-04-07</td>\n",
       "      <td>61.562248</td>\n",
       "    </tr>\n",
       "    <tr>\n",
       "      <th>98</th>\n",
       "      <td>2024-04-08</td>\n",
       "      <td>87.150941</td>\n",
       "    </tr>\n",
       "    <tr>\n",
       "      <th>99</th>\n",
       "      <td>2024-04-09</td>\n",
       "      <td>27.378752</td>\n",
       "    </tr>\n",
       "  </tbody>\n",
       "</table>\n",
       "<p>100 rows × 2 columns</p>\n",
       "</div>"
      ],
      "text/plain": [
       "   joining_date  user_salary\n",
       "0    2024-01-01    97.419378\n",
       "1    2024-01-02   100.975289\n",
       "2    2024-01-03    57.406973\n",
       "3    2024-01-04    87.732073\n",
       "4    2024-01-05    40.602679\n",
       "..          ...          ...\n",
       "95   2024-04-05    56.037629\n",
       "96   2024-04-06    33.618576\n",
       "97   2024-04-07    61.562248\n",
       "98   2024-04-08    87.150941\n",
       "99   2024-04-09    27.378752\n",
       "\n",
       "[100 rows x 2 columns]"
      ]
     },
     "execution_count": 139,
     "metadata": {},
     "output_type": "execute_result"
    }
   ],
   "source": [
    "df.select_dtypes(exclude=\"int64\")"
   ]
  },
  {
   "cell_type": "code",
   "execution_count": 140,
   "id": "2805dcb4-092e-44af-a955-5ad8c1326342",
   "metadata": {},
   "outputs": [
    {
     "data": {
      "text/plain": [
       "Text(0.5, 1.0, 'age and id')"
      ]
     },
     "execution_count": 140,
     "metadata": {},
     "output_type": "execute_result"
    },
    {
     "data": {
      "image/png": "[encoded data removed]",
      "text/plain": [
       "<Figure size 640x480 with 1 Axes>"
      ]
     },
     "metadata": {},
     "output_type": "display_data"
    }
   ],
   "source": [
    "sub.grid()\n",
    "fig=plt.figure()\n",
    "sub=plt.subplot()\n",
    "sub.plot(df[\"user_age\"],df[\"user_id\"],\"r-o\",label=\"xgraph\")\n",
    "sub.legend()\n",
    "plt.xlabel(\"user_age\")\n",
    "plt.ylabel(\"user_id\")\n",
    "plt.title(\"age and id\")"
   ]
  },
  {
   "cell_type": "code",
   "execution_count": 141,
   "id": "a91942f5-9c65-45e9-8642-d8a4bcbeed10",
   "metadata": {},
   "outputs": [
    {
     "data": {
      "text/plain": [
       "Text(0.5, 1.0, 'age and id')"
      ]
     },
     "execution_count": 141,
     "metadata": {},
     "output_type": "execute_result"
    },
    {
     "data": {
      "image/png": "[encoded data removed]",
      "text/plain": [
       "<Figure size 640x480 with 1 Axes>"
      ]
     },
     "metadata": {},
     "output_type": "display_data"
    }
   ],
   "source": [
    "sub.grid()\n",
    "fig=plt.figure()\n",
    "sub=plt.subplot()\n",
    "sub.bar(df[\"user_age\"],df[\"user_id\"],label=\"xgraph\")\n",
    "sub.legend()\n",
    "plt.xlabel(\"user_age\")\n",
    "plt.ylabel(\"user_id\")\n",
    "plt.title(\"age and id\")"
   ]
  },
  {
   "cell_type": "code",
   "execution_count": 142,
   "id": "9aec92b0-8b7e-4bd8-8613-3e324fd40836",
   "metadata": {},
   "outputs": [
    {
     "data": {
      "text/plain": [
       "Text(0.5, 1.0, 'age and id')"
      ]
     },
     "execution_count": 142,
     "metadata": {},
     "output_type": "execute_result"
    },
    {
     "data": {
      "image/png": "[encoded data removed]",
      "text/plain": [
       "<Figure size 640x480 with 1 Axes>"
      ]
     },
     "metadata": {},
     "output_type": "display_data"
    }
   ],
   "source": [
    "sub.grid()\n",
    "fig=plt.figure()\n",
    "sub=plt.subplot()\n",
    "sub.hist(df[\"user_id\"],df[\"user_age\"].sort_values(),label=\"xgraph\")\n",
    "sub.legend()\n",
    "plt.xlabel(\"user_age\")\n",
    "plt.ylabel(\"user_id\")\n",
    "plt.title(\"age and id\")"
   ]
  },
  {
   "cell_type": "code",
   "execution_count": null,
   "id": "93a2baaf-aa99-4550-bd16-67cd58da2167",
   "metadata": {},
   "outputs": [],
   "source": []
  },
  {
   "cell_type": "code",
   "execution_count": null,
   "id": "91add441-4479-4bc3-b425-9c32a100c089",
   "metadata": {},
   "outputs": [],
   "source": []
  },
  {
   "cell_type": "code",
   "execution_count": 143,
   "id": "1b335aa7-9bb4-41b8-8f50-19894d2a5c34",
   "metadata": {},
   "outputs": [
    {
     "data": {
      "text/plain": [
       "user_id         29\n",
       "user_age        29\n",
       "joining_date    29\n",
       "user_salary     29\n",
       "dtype: int64"
      ]
     },
     "execution_count": 143,
     "metadata": {},
     "output_type": "execute_result"
    }
   ],
   "source": [
    "df[df[\"user_age\"]>50].count()"
   ]
  },
  {
   "cell_type": "code",
   "execution_count": null,
   "id": "d6a01b17-8719-4305-ad25-16d1c04ae046",
   "metadata": {},
   "outputs": [],
   "source": []
  },
  {
   "cell_type": "code",
   "execution_count": null,
   "id": "f2e9b9cf-0ab9-4f7a-9e6a-59f4c4c11ad9",
   "metadata": {},
   "outputs": [],
   "source": []
  },
  {
   "cell_type": "code",
   "execution_count": null,
   "id": "ebf2b078-5b5e-4507-a2d9-4b59f6b50866",
   "metadata": {},
   "outputs": [],
   "source": []
  },
  {
   "cell_type": "code",
   "execution_count": null,
   "id": "6b0a6edd-64b8-4a32-88ec-9cb6ed9b0e67",
   "metadata": {},
   "outputs": [],
   "source": []
  },
  {
   "cell_type": "code",
   "execution_count": null,
   "id": "30122c55-71c2-42a9-8fb6-6c2217dd056e",
   "metadata": {},
   "outputs": [],
   "source": []
  },
  {
   "cell_type": "code",
   "execution_count": null,
   "id": "d720e8da-50a4-4861-b4d3-0794e5464d68",
   "metadata": {},
   "outputs": [],
   "source": []
  },
  {
   "cell_type": "code",
   "execution_count": null,
   "id": "39bd9109-f907-4bf2-85f0-bc6c1bafb902",
   "metadata": {},
   "outputs": [],
   "source": []
  },
  {
   "cell_type": "code",
   "execution_count": null,
   "id": "08798f66-ef2e-4c42-b443-a6aa18b09d02",
   "metadata": {},
   "outputs": [],
   "source": []
  },
  {
   "cell_type": "code",
   "execution_count": null,
   "id": "d8b35245-b64f-4da9-adfc-8c2307098ebd",
   "metadata": {},
   "outputs": [],
   "source": []
  },
  {
   "cell_type": "code",
   "execution_count": null,
   "id": "a20bfa9d-5418-4068-ab91-8f1f8e75f1ae",
   "metadata": {},
   "outputs": [],
   "source": []
  },
  {
   "cell_type": "code",
   "execution_count": null,
   "id": "d5a80eb1-b2bd-4cab-99c2-4ab97246aaa5",
   "metadata": {},
   "outputs": [],
   "source": []
  }
 ],
 "metadata": {
  "kernelspec": {
   "display_name": "Python 3 (ipykernel)",
   "language": "python",
   "name": "python3"
  },
  "language_info": {
   "codemirror_mode": {
    "name": "ipython",
    "version": 3
   },
   "file_extension": ".py",
   "mimetype": "text/x-python",
   "name": "python",
   "nbconvert_exporter": "python",
   "pygments_lexer": "ipython3",
   "version": "3.8.10"
  }
 },
 "nbformat": 4,
 "nbformat_minor": 5
}
